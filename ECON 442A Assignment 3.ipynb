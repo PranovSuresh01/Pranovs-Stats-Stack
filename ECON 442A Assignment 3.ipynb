{
 "cells": [
  {
   "cell_type": "markdown",
   "id": "721f11d6-423c-4fc8-843c-bc9c77513137",
   "metadata": {},
   "source": [
    "<h2><center>Submission by Pranov Suresh</center></h2>"
   ]
  },
  {
   "cell_type": "markdown",
   "id": "b7f0e3c4-b65f-4423-a092-b6c2f2ad223c",
   "metadata": {},
   "source": [
    "### Question 1"
   ]
  },
  {
   "cell_type": "code",
   "execution_count": 1,
   "id": "e9902b9e-40b8-4505-beb2-221eff897f77",
   "metadata": {},
   "outputs": [],
   "source": [
    "#Importing essential packages and modules\n",
    "import wooldridge as woo\n",
    "import seaborn as sns\n",
    "import matplotlib.pyplot as plt\n",
    "import pandas as pd\n",
    "from scipy import stats\n",
    "import statsmodels.formula.api as smf\n",
    "import statsmodels.api as sm\n",
    "import numpy as np\n",
    "import statsmodels.stats.outliers_influence as smo\n",
    "import patsy as pt"
   ]
  },
  {
   "cell_type": "code",
   "execution_count": 2,
   "id": "7d381d74-3223-4341-8696-cec101666c50",
   "metadata": {},
   "outputs": [
    {
     "name": "stdout",
     "output_type": "stream",
     "text": [
      "     psoda  pfries  pentree  wagest  nmgrs  nregs  hrsopen   emp  psoda2  \\\n",
      "0     1.12    1.06     1.02    4.25    3.0    5.0     16.0  27.5    1.11   \n",
      "1     1.06    0.91     0.95    4.75    3.0    3.0     16.5  21.5    1.05   \n",
      "2     1.06    0.91     0.98    4.25    3.0    5.0     18.0  30.0    1.05   \n",
      "3     1.12    1.02     1.06    5.00    4.0    5.0     16.0  27.5    1.15   \n",
      "4     1.12     NaN     0.49    5.00    3.0    3.0     16.0   5.0    1.04   \n",
      "..     ...     ...      ...     ...    ...    ...      ...   ...     ...   \n",
      "405   1.11    1.05     0.94    4.50    3.0    2.0     12.5  10.0    1.11   \n",
      "406   0.95    0.74     2.33    4.75    3.0    4.0     10.0   8.0    0.95   \n",
      "407   0.97    0.84     0.91    4.25    4.0    3.0     18.0  35.0    0.97   \n",
      "408   0.97    0.86     0.89    4.75    4.0    3.0     17.0  18.5    0.97   \n",
      "409   1.02    0.89     0.90    4.50    3.0    3.0     15.0  29.0    1.02   \n",
      "\n",
      "     pfries2  ...  county    lpsoda   lpfries    lhseval    lincome  ldensity  \\\n",
      "0       1.11  ...      18  0.113329  0.058269  11.906993  10.704008  8.301521   \n",
      "1       0.89  ...      18  0.058269 -0.094311  11.906993  10.704008  8.301521   \n",
      "2       0.94  ...      12  0.058269 -0.094311  12.038836  10.625319  9.341369   \n",
      "3       1.05  ...      10  0.113329  0.019803  12.052921  10.827071  9.029418   \n",
      "4       1.01  ...      10  0.113329       NaN  12.425610  11.188399  6.579251   \n",
      "..       ...  ...     ...       ...       ...        ...        ...       ...   \n",
      "405     1.11  ...      20  0.104360  0.048790  11.946006  10.908375  7.253400   \n",
      "406     0.84  ...      20 -0.051293 -0.301105  11.494761  10.611154  8.368465   \n",
      "407     0.86  ...      20 -0.030459 -0.174353  11.494761  10.611154  8.368465   \n",
      "408     0.84  ...      20 -0.030459 -0.150823  11.494761  10.611154  8.368465   \n",
      "409     0.94  ...       3  0.019803 -0.116534  11.684355  10.531483  6.114567   \n",
      "\n",
      "     NJ  BK  KFC  RR  \n",
      "0     1   0    0   1  \n",
      "1     1   1    0   0  \n",
      "2     1   1    0   0  \n",
      "3     1   0    0   1  \n",
      "4     1   1    0   0  \n",
      "..   ..  ..  ...  ..  \n",
      "405   0   0    0   1  \n",
      "406   0   0    1   0  \n",
      "407   0   1    0   0  \n",
      "408   0   1    0   0  \n",
      "409   0   1    0   0  \n",
      "\n",
      "[410 rows x 37 columns]\n",
      "psoda        8\n",
      "pfries      17\n",
      "pentree     12\n",
      "wagest      20\n",
      "nmgrs        6\n",
      "nregs       22\n",
      "hrsopen      0\n",
      "emp          6\n",
      "psoda2      22\n",
      "pfries2     28\n",
      "pentree2    24\n",
      "wagest2     21\n",
      "nmgrs2       6\n",
      "nregs2      22\n",
      "hrsopen2    11\n",
      "emp2        13\n",
      "compown      0\n",
      "chain        0\n",
      "density      1\n",
      "crmrte       1\n",
      "state        0\n",
      "prpblck      1\n",
      "prppov       1\n",
      "prpncar      1\n",
      "hseval       1\n",
      "nstores      0\n",
      "income       1\n",
      "county       0\n",
      "lpsoda       8\n",
      "lpfries     17\n",
      "lhseval      1\n",
      "lincome      1\n",
      "ldensity     1\n",
      "NJ           0\n",
      "BK           0\n",
      "KFC          0\n",
      "RR           0\n",
      "dtype: int64\n"
     ]
    }
   ],
   "source": [
    "#Importing data from wooldridge module as discrim\n",
    "discrim = woo.data(\"DISCRIM\")\n",
    "#Checking for null values in the dataset\n",
    "print(discrim)\n",
    "print(discrim.isnull().sum())"
   ]
  },
  {
   "cell_type": "markdown",
   "id": "f4371149-2a80-4a27-8f71-6065f9115e7f",
   "metadata": {},
   "source": [
    "Despite the presence of multiple null values in the dataset, in the absence of any guidance regarding the imputation of these, a choice is made to retain these NaNs in the dataset and run all models with them. Output is influenced by the presence of these NaNs."
   ]
  },
  {
   "cell_type": "code",
   "execution_count": 3,
   "id": "a81faf37-5f15-4666-b398-9ae1c19c8f18",
   "metadata": {},
   "outputs": [
    {
     "name": "stdout",
     "output_type": "stream",
     "text": [
      "                            OLS Regression Results                            \n",
      "==============================================================================\n",
      "Dep. Variable:             price_soda   R-squared:                       0.087\n",
      "Model:                            OLS   Adj. R-squared:                  0.080\n",
      "Method:                 Least Squares   F-statistic:                     12.60\n",
      "Date:                Thu, 30 Nov 2023   Prob (F-statistic):           6.92e-08\n",
      "Time:                        20:35:31   Log-Likelihood:                 439.04\n",
      "No. Observations:                 401   AIC:                            -870.1\n",
      "Df Residuals:                     397   BIC:                            -854.1\n",
      "Df Model:                           3                                         \n",
      "Covariance Type:            nonrobust                                         \n",
      "====================================================================================\n",
      "                       coef    std err          t      P>|t|      [0.025      0.975]\n",
      "------------------------------------------------------------------------------------\n",
      "Intercept           -1.4633      0.294     -4.982      0.000      -2.041      -0.886\n",
      "proportion_black     0.0728      0.031      2.373      0.018       0.013       0.133\n",
      "log_income           0.1370      0.027      5.119      0.000       0.084       0.190\n",
      "poverty              0.3804      0.133      2.864      0.004       0.119       0.641\n",
      "==============================================================================\n",
      "Omnibus:                       12.002   Durbin-Watson:                   1.727\n",
      "Prob(Omnibus):                  0.002   Jarque-Bera (JB):               24.056\n",
      "Skew:                          -0.014   Prob(JB):                     5.97e-06\n",
      "Kurtosis:                       4.200   Cond. No.                         834.\n",
      "==============================================================================\n",
      "\n",
      "Notes:\n",
      "[1] Standard Errors assume that the covariance matrix of the errors is correctly specified.\n"
     ]
    }
   ],
   "source": [
    "#Defining variables to be used in the model\n",
    "proportion_black = discrim[\"prpblck\"]\n",
    "price_soda = np.log(discrim[\"psoda\"])\n",
    "log_income = np.log(discrim[\"income\"])\n",
    "poverty = discrim[\"prppov\"]\n",
    "\n",
    "#Creating the regression model\n",
    "reg = smf.ols(\"price_soda~proportion_black+log_income+poverty\", data = discrim).fit()\n",
    "print(reg.summary())"
   ]
  },
  {
   "cell_type": "code",
   "execution_count": 4,
   "id": "59584a3a-877a-43e9-aa35-f718a2508a5a",
   "metadata": {},
   "outputs": [
    {
     "name": "stdout",
     "output_type": "stream",
     "text": [
      "                         0         1\n",
      "Intercept        -2.040755 -0.885909\n",
      "proportion_black  0.012500  0.133114\n",
      "log_income        0.084355  0.189555\n",
      "poverty           0.119300  0.641420\n",
      "                         0         1\n",
      "Intercept        -2.223535 -0.703129\n",
      "proportion_black -0.006589  0.152204\n",
      "log_income        0.067705  0.206206\n",
      "poverty           0.036663  0.724057\n"
     ]
    }
   ],
   "source": [
    "#Estimating the confidence intervals of the estimates at both the 95% and 99% confidence levels\n",
    "print(reg.conf_int(alpha=0.05))\n",
    "print(reg.conf_int(alpha=0.01))"
   ]
  },
  {
   "cell_type": "markdown",
   "id": "6d6fa1fc-4a19-437a-86b8-c214e3ee748b",
   "metadata": {},
   "source": [
    "Based on the summary of the regression model built, and the additional confidence interval constructed for the coefficient of the \"proportion_black\" variable, it is clear that at the 95% confidence level B1 is not equal to zero. There are two approaches to arriving at this conclusion. First, we look at the T-value and p-value of the T-test conducted on the two-sided Null Hypothesis that B1 = 0. For a 95% confidence level, the absolute value of the two-sided T-value must exceed 1.96 and the p-value must not exceed 0.05. Second, we can look at the confidence interval constructed for the coefficient using a 95% confidence level. Here the interval [0.012:0.133] does not include the value 0. Since both these conditions are satisfied by the model, we can conclude that H0: B1 = 0 can be rejected at the 95% confidence level. \n",
    "\n",
    "For the 99% confidence level, we use the same two tests but modified for a higher significance level. Here, the T-value and p-value for the 99% confidence level are 2.576 and 0.01 respectively. The confidence interval constructed for the 99% confidence level is [-0.006:0.152]. Based on both these findings, we can clearly see that 0 is a feasible value for B1 at the 99% confidence level. Thus, we can conclude that H0: B1 = 0 cannot be rejected, and B1 is not statistically different from 0 at the 99% confidence level. "
   ]
  },
  {
   "cell_type": "code",
   "execution_count": 5,
   "id": "d77f7cc8-946f-4e00-b47a-612fdb31f5cd",
   "metadata": {},
   "outputs": [
    {
     "name": "stdout",
     "output_type": "stream",
     "text": [
      "           prppov   prpblck    lpsoda   lincome\n",
      "prppov   1.000000  0.680283  0.024875 -0.838467\n",
      "prpblck  0.680283  1.000000  0.135393 -0.496636\n",
      "lpsoda   0.024875  0.135393  1.000000  0.126000\n",
      "lincome -0.838467 -0.496636  0.126000  1.000000\n"
     ]
    }
   ],
   "source": [
    "#Checking for correlation between the predictors\n",
    "correlation_list = [\"prppov\", \"prpblck\", \"lpsoda\", \"lincome\"]\n",
    "correlation_table = discrim[correlation_list].corr()\n",
    "print(correlation_table)"
   ]
  },
  {
   "cell_type": "markdown",
   "id": "8e4dfb62-83c0-4cda-a538-c3a835402b35",
   "metadata": {},
   "source": [
    "Here, we have the correlation matrix for all the variables involved in the model. The correlation coefficient between log income and the proportion of people who are below the poverty line is -0.8384. This is in line with the standard economic intuition that a rise in the average income in the region will naturally mean that the proportion of people in poverty in the region is lower. "
   ]
  },
  {
   "cell_type": "code",
   "execution_count": 6,
   "id": "f15f28f2-6d91-4806-a3a3-d89e625c531d",
   "metadata": {},
   "outputs": [
    {
     "name": "stdout",
     "output_type": "stream",
     "text": [
      "VIF: \n",
      "[5.22495302e+03 3.51872083e+00 4.91521981e+00 1.92215952e+00]\n",
      "\n"
     ]
    }
   ],
   "source": [
    "#Creating patsy matrices to estimate VIF\n",
    "y, X = pt.dmatrices('price_soda~log_income+poverty+proportion_black', data=discrim, return_type='dataframe')\n",
    "K = X.shape[1]\n",
    "VIF = np.empty(K)\n",
    "for i in range(K):\n",
    "    VIF[i] = smo.variance_inflation_factor(X.values, i)\n",
    "\n",
    "#Calculating VIF\n",
    "print(f'VIF: \\n{VIF}\\n')"
   ]
  },
  {
   "cell_type": "markdown",
   "id": "df4f6d0b-de5c-469f-afa4-c2f06e40c9d5",
   "metadata": {},
   "source": [
    "The VIF test for multicollinearity returns values here that are range bound between 1 and 5. The typical interpretation of VIF results below 5, but not equal to 1 is that mild multicollinearity exists in the model. Here, we know that the income and poverty indicators are bound to be linked, as they are economically connected. When we created the correlation matrix, that intuition was confirmed with a high correlation coefficient of -0.8384. Despite this, we find that this model does not have a high enough VIF to reject its significance entirely, and look to build a new model. "
   ]
  },
  {
   "cell_type": "code",
   "execution_count": 7,
   "id": "15eaeb9b-20d7-4d7e-a1fd-30c3474b5ff5",
   "metadata": {},
   "outputs": [
    {
     "name": "stdout",
     "output_type": "stream",
     "text": [
      "                            OLS Regression Results                            \n",
      "==============================================================================\n",
      "Dep. Variable:             price_soda   R-squared:                       0.184\n",
      "Model:                            OLS   Adj. R-squared:                  0.176\n",
      "Method:                 Least Squares   F-statistic:                     22.31\n",
      "Date:                Thu, 30 Nov 2023   Prob (F-statistic):           1.24e-16\n",
      "Time:                        20:35:34   Log-Likelihood:                 461.55\n",
      "No. Observations:                 401   AIC:                            -913.1\n",
      "Df Residuals:                     396   BIC:                            -893.1\n",
      "Df Model:                           4                                         \n",
      "Covariance Type:            nonrobust                                         \n",
      "====================================================================================\n",
      "                       coef    std err          t      P>|t|      [0.025      0.975]\n",
      "------------------------------------------------------------------------------------\n",
      "Intercept           -0.8415      0.292     -2.878      0.004      -1.416      -0.267\n",
      "log_income          -0.0530      0.038     -1.412      0.159      -0.127       0.021\n",
      "proportion_black     0.0976      0.029      3.334      0.001       0.040       0.155\n",
      "poverty              0.0521      0.134      0.388      0.699      -0.212       0.317\n",
      "log_house_value      0.1213      0.018      6.860      0.000       0.087       0.156\n",
      "==============================================================================\n",
      "Omnibus:                       16.452   Durbin-Watson:                   1.973\n",
      "Prob(Omnibus):                  0.000   Jarque-Bera (JB):               40.077\n",
      "Skew:                          -0.016   Prob(JB):                     1.98e-09\n",
      "Kurtosis:                       4.548   Cond. No.                     1.31e+03\n",
      "==============================================================================\n",
      "\n",
      "Notes:\n",
      "[1] Standard Errors assume that the covariance matrix of the errors is correctly specified.\n",
      "[2] The condition number is large, 1.31e+03. This might indicate that there are\n",
      "strong multicollinearity or other numerical problems.\n",
      "                         0         1\n",
      "Intercept        -1.598416 -0.084613\n",
      "log_income       -0.150119  0.044138\n",
      "proportion_black  0.021815  0.173286\n",
      "poverty          -0.296002  0.400247\n",
      "log_house_value   0.075534  0.167077\n"
     ]
    }
   ],
   "source": [
    "#Introducing new variable into the model\n",
    "log_house_value= discrim[\"lhseval\"]\n",
    "\n",
    "#Building new model\n",
    "reg2 = smf.ols(\"price_soda~log_income+proportion_black+poverty+log_house_value\", data=discrim).fit()\n",
    "print(reg2.summary())\n",
    "print(reg2.conf_int(alpha=0.01))"
   ]
  },
  {
   "cell_type": "markdown",
   "id": "e9f02867-3d47-4b27-b68e-c0b2d43cc942",
   "metadata": {},
   "source": [
    "Here, the model is augmented by the addition of the variable (log_house_value). This gives us insight into average property values in the area, and the potential impact it could have on the price of soda. The coefficient of the log_house_value variable is 0.1213, which can be interpreted as a 12% increase in the log price of soda for a 1 unit increase in the house value in the area. Framing a null hypothesis that B4 = 0, we receive a T-value of 6.860 and a p-value of 0.000, which reveals statistical significance at the 95% confidence level. Thus, we can reject the null hypothesis, and state that B4 is not equal to 0. We can additionally verify this conclusion using the confidence interval constructed for the 95% confidence level, where the interval is [0.0755:0.1670]. Since the value 0 does not lie within these range, we can reject the null hypothesis."
   ]
  },
  {
   "cell_type": "code",
   "execution_count": 8,
   "id": "b0c6a874-9909-46ff-ab59-ba80d6b11e83",
   "metadata": {},
   "outputs": [
    {
     "name": "stdout",
     "output_type": "stream",
     "text": [
      "The statistical significance of the regression coefficient of the proportion of poverty variable  in the original model is 0.004400360031387765 \n",
      "The statistical significance of the regression coefficient of the log of income variable  in the original model is 4.802040557260754e-07 \n",
      "The statistical significance of the regression coefficient of the proportion of poverty variable in the augmented model is 0.6985696891508966 \n",
      "The statistical significance of the regression coefficient of the log of income variable in the augmented model is 0.15870684169836033\n"
     ]
    }
   ],
   "source": [
    "#Formulating the hypothesis test and printing the joint-test F value\n",
    "print(\"The statistical significance of the regression coefficient of the proportion of poverty variable  in the original model is\", reg.pvalues[3],\"\\nThe statistical significance of the regression coefficient of the log of income variable  in the original model is\", reg.pvalues[2],\"\\nThe statistical significance of the regression coefficient of the proportion of poverty variable in the augmented model is\", reg2.pvalues[3],\"\\nThe statistical significance of the regression coefficient of the log of income variable in the augmented model is\", reg2.pvalues[1])"
   ]
  },
  {
   "cell_type": "markdown",
   "id": "f9914fa2-a4af-466d-9d3c-8bd9d7323873",
   "metadata": {},
   "source": [
    "Here the statistical significance of the variables as measured by the p-values is clearly declining from the original model to the augmented model. When we add the log of the average house value in an area to the model, the statistical significance of both the income and poverty variables drastically declines. \n",
    "\n",
    "For poverty, when the p value goes from 0.0044 to 0.6985, it goes from statistically significant at a 99% confidence level to being insignificant at even a 95% confidence level. \n",
    "\n",
    "For the income variable, when the p value goes from 0.000 to 0.1587, it too similarly goes from being statistically significant at 99% confidence level to statistical insignificance at the 95% confidence level. "
   ]
  },
  {
   "cell_type": "code",
   "execution_count": 12,
   "id": "7f6aaa2c-2886-4a62-a285-d010b7842d4f",
   "metadata": {},
   "outputs": [
    {
     "name": "stdout",
     "output_type": "stream",
     "text": [
      "The F-test results for the joint hypothesis that both income and proportion of impoverished individuals can explain some of the variance in the price of soda is <F test: F=3.5226857196147807, p=0.030448581905393016, df_denom=396, df_num=2>\n"
     ]
    }
   ],
   "source": [
    "hypotheses = [\"log_income = 0\", \"poverty = 0\"]\n",
    "print(\"The F-test results for the joint hypothesis that both income and proportion of impoverished individuals can explain some of the variance in the price of soda is\", reg2.f_test(hypotheses))"
   ]
  },
  {
   "cell_type": "markdown",
   "id": "bb6ca3f8-8682-40e8-bb09-7d8a9d514aff",
   "metadata": {},
   "source": [
    "The F statistic for the joint hypothesis is 3.5226, with a p-value of 0.03, signifying that these variables are jointly significant with respect to the price of soda variable. However, their statistical significance is clearly impacted above in the augmented model through the introduction of the log_house_value variable. Since the income and poverty variables are economically connected, and intuitively they may also be connected to the housing value variable, they are independently and jointly significant yet lose significance in the augmented model. This means that these variables explain less of the variance in the price of soda when part of a larger model. "
   ]
  },
  {
   "cell_type": "markdown",
   "id": "a01f7a3c-8da5-481e-929d-0ed2abd47242",
   "metadata": {},
   "source": [
    "When comparing two multiple regression models, we can rely upon a multitude of indicators and tests to serve as a statistical basis for picking the better model. \n",
    "1. First, we can look at the adjusted R square, which explains the quantum of variance in the price of soda that can be explained by the independent variables. In the original model we have an adjusted R sq of 0.080 as compared to the augmented model's 0.176. This tilts the field in the favour of our augmented model, purely on the basis of it being able to explain a greater quantum of variance in our dependent variable.\n",
    "2. Second, we look at the Akaike and Bayesian Information Criterion (AIC and BIC) which are tests surrounding our choice of variables. Typically, AIC and BIC are used to evaluate if the addition of a variable makes it more statistically valid. The lower the AIC and BIC, the better the selection of variables within a model. Once again, the augmented model here is clearly ahead with much lower AIC and BIC values as compared to the original model.\n",
    "3. Lastly, we can look at the F-statistic joint hypothesis which examines if the independent variables are jointly signiificant with respect to the predicted variable. Our augmented model has a significantly higher F statistic, with a signficantly higher p value when compared to the original model. This further adds to the argument in favour of it.\n",
    "\n",
    "To conclude, we can use the above information to argue in favour of the selection of the second model. This is despite the major limitation that two variables within that model are not statistically significant at the 95% confidence level. "
   ]
  },
  {
   "cell_type": "markdown",
   "id": "73d68efe-1469-4d31-80be-2a1b44ab41b7",
   "metadata": {},
   "source": [
    "## Question 2"
   ]
  },
  {
   "cell_type": "code",
   "execution_count": 13,
   "id": "1a6c6750-1b34-41cc-a651-0c74f906f6dc",
   "metadata": {},
   "outputs": [
    {
     "name": "stdout",
     "output_type": "stream",
     "text": [
      "<bound method NDFrame.describe of     state  district  democA  voteA     expendA      expendB  prtystrA  \\\n",
      "0      AL         7       1     68  328.295990     8.737000        41   \n",
      "1      AK         1       0     62  626.377014   402.476990        60   \n",
      "2      AZ         2       1     73   99.607002     3.065000        55   \n",
      "3      AZ         3       0     69  319.690002    26.281000        64   \n",
      "4      AR         3       0     75  159.220993    60.054001        66   \n",
      "..    ...       ...     ...    ...         ...          ...       ...   \n",
      "168    WV         4       0     39   32.039001   152.270996        42   \n",
      "169    WI         3       1     32   22.625999   359.800995        53   \n",
      "170    WI         5       0     36  197.460007  1278.526001        36   \n",
      "171    WI         7       0     38  202.591003   450.716003        46   \n",
      "172    WI         8       1     30   14.421000   227.822998        47   \n",
      "\n",
      "     lexpendA  lexpendB     shareA  \n",
      "0    5.793916  2.167567  97.407669  \n",
      "1    6.439952  5.997638  60.881039  \n",
      "2    4.601233  1.120048  97.014763  \n",
      "3    5.767352  3.268846  92.403702  \n",
      "4    5.070293  4.095244  72.612473  \n",
      "..        ...       ...        ...  \n",
      "168  3.466954  5.025662  17.383217  \n",
      "169  3.119100  5.885551   5.916420  \n",
      "170  5.285536  7.153463  13.378174  \n",
      "171  5.311189  6.110837  31.010078  \n",
      "172  2.668685  5.428569   5.953087  \n",
      "\n",
      "[173 rows x 10 columns]>\n",
      "                            OLS Regression Results                            \n",
      "==============================================================================\n",
      "Dep. Variable:                  vote1   R-squared:                       0.801\n",
      "Model:                            OLS   Adj. R-squared:                  0.796\n",
      "Method:                 Least Squares   F-statistic:                     169.2\n",
      "Date:                Thu, 30 Nov 2023   Prob (F-statistic):           8.09e-58\n",
      "Time:                        20:36:11   Log-Likelihood:                -593.20\n",
      "No. Observations:                 173   AIC:                             1196.\n",
      "Df Residuals:                     168   BIC:                             1212.\n",
      "Df Model:                           4                                         \n",
      "Covariance Type:            nonrobust                                         \n",
      "==================================================================================\n",
      "                     coef    std err          t      P>|t|      [0.025      0.975]\n",
      "----------------------------------------------------------------------------------\n",
      "Intercept         37.6614      4.736      7.952      0.000      28.312      47.011\n",
      "president_vote     0.2519      0.071      3.534      0.001       0.111       0.393\n",
      "expenditure_A      5.7793      0.392     14.750      0.000       5.006       6.553\n",
      "party              3.7929      1.407      2.697      0.008       1.016       6.570\n",
      "expenditure_B     -6.2378      0.397    -15.694      0.000      -7.022      -5.453\n",
      "==============================================================================\n",
      "Omnibus:                        6.304   Durbin-Watson:                   1.525\n",
      "Prob(Omnibus):                  0.043   Jarque-Bera (JB):                6.030\n",
      "Skew:                           0.448   Prob(JB):                       0.0491\n",
      "Kurtosis:                       3.182   Cond. No.                         429.\n",
      "==============================================================================\n",
      "\n",
      "Notes:\n",
      "[1] Standard Errors assume that the covariance matrix of the errors is correctly specified.\n"
     ]
    }
   ],
   "source": [
    "#defining variables to be introduced into the model\n",
    "vote = pd.DataFrame(woo.data(\"VOTE1\"))\n",
    "print(vote.describe)\n",
    "vote1 = vote[\"voteA\"]\n",
    "president_vote = vote[\"prtystrA\"]\n",
    "expenditure_A = np.log(vote[\"expendA\"])\n",
    "party = vote[\"democA\"]\n",
    "expenditure_B = np.log(vote[\"expendB\"])\n",
    "\n",
    "#building the model and deriving residuals\n",
    "reg3 = smf.ols(\"vote1~president_vote+expenditure_A+party+expenditure_B\", data = vote).fit()\n",
    "print(reg3.summary())\n",
    "y_hat = reg3.resid"
   ]
  },
  {
   "cell_type": "code",
   "execution_count": 14,
   "id": "53dea7fb-4f21-4c2a-bc77-95dc2afb2bd9",
   "metadata": {},
   "outputs": [
    {
     "name": "stdout",
     "output_type": "stream",
     "text": [
      "                            OLS Regression Results                            \n",
      "==============================================================================\n",
      "Dep. Variable:                  y_hat   R-squared:                       0.000\n",
      "Model:                            OLS   Adj. R-squared:                 -0.006\n",
      "Method:                 Least Squares   F-statistic:                 3.228e-14\n",
      "Date:                Thu, 30 Nov 2023   Prob (F-statistic):               1.00\n",
      "Time:                        20:36:13   Log-Likelihood:                -593.20\n",
      "No. Observations:                 173   AIC:                             1190.\n",
      "Df Residuals:                     171   BIC:                             1197.\n",
      "Df Model:                           1                                         \n",
      "Covariance Type:            nonrobust                                         \n",
      "=================================================================================\n",
      "                    coef    std err          t      P>|t|      [0.025      0.975]\n",
      "---------------------------------------------------------------------------------\n",
      "Intercept     -4.741e-14      1.884  -2.52e-14      1.000      -3.720       3.720\n",
      "expenditure_A  8.021e-15      0.357   2.24e-14      1.000      -0.705       0.705\n",
      "==============================================================================\n",
      "Omnibus:                        6.304   Durbin-Watson:                   1.525\n",
      "Prob(Omnibus):                  0.043   Jarque-Bera (JB):                6.030\n",
      "Skew:                           0.448   Prob(JB):                       0.0491\n",
      "Kurtosis:                       3.182   Cond. No.                         18.0\n",
      "==============================================================================\n",
      "\n",
      "Notes:\n",
      "[1] Standard Errors assume that the covariance matrix of the errors is correctly specified.\n",
      "                            OLS Regression Results                            \n",
      "==============================================================================\n",
      "Dep. Variable:                  y_hat   R-squared:                       0.000\n",
      "Model:                            OLS   Adj. R-squared:                 -0.006\n",
      "Method:                 Least Squares   F-statistic:                 3.228e-14\n",
      "Date:                Thu, 30 Nov 2023   Prob (F-statistic):               1.00\n",
      "Time:                        20:36:13   Log-Likelihood:                -593.20\n",
      "No. Observations:                 173   AIC:                             1190.\n",
      "Df Residuals:                     171   BIC:                             1197.\n",
      "Df Model:                           1                                         \n",
      "Covariance Type:            nonrobust                                         \n",
      "==================================================================================\n",
      "                     coef    std err          t      P>|t|      [0.025      0.975]\n",
      "----------------------------------------------------------------------------------\n",
      "Intercept      -1.243e-14      2.909  -4.27e-15      1.000      -5.742       5.742\n",
      "president_vote   1.11e-16      0.057   1.94e-15      1.000      -0.113       0.113\n",
      "==============================================================================\n",
      "Omnibus:                        6.304   Durbin-Watson:                   1.525\n",
      "Prob(Omnibus):                  0.043   Jarque-Bera (JB):                6.030\n",
      "Skew:                           0.448   Prob(JB):                       0.0491\n",
      "Kurtosis:                       3.182   Cond. No.                         259.\n",
      "==============================================================================\n",
      "\n",
      "Notes:\n",
      "[1] Standard Errors assume that the covariance matrix of the errors is correctly specified.\n",
      "                            OLS Regression Results                            \n",
      "==============================================================================\n",
      "Dep. Variable:                  y_hat   R-squared:                       0.000\n",
      "Model:                            OLS   Adj. R-squared:                 -0.006\n",
      "Method:                 Least Squares   F-statistic:                 3.228e-14\n",
      "Date:                Thu, 30 Nov 2023   Prob (F-statistic):               1.00\n",
      "Time:                        20:36:13   Log-Likelihood:                -593.20\n",
      "No. Observations:                 173   AIC:                             1190.\n",
      "Df Residuals:                     171   BIC:                             1197.\n",
      "Df Model:                           1                                         \n",
      "Covariance Type:            nonrobust                                         \n",
      "==============================================================================\n",
      "                 coef    std err          t      P>|t|      [0.025      0.975]\n",
      "------------------------------------------------------------------------------\n",
      "Intercept  -5.107e-15      0.855  -5.97e-15      1.000      -1.689       1.689\n",
      "party      -2.498e-15      1.148  -2.18e-15      1.000      -2.267       2.267\n",
      "==============================================================================\n",
      "Omnibus:                        6.304   Durbin-Watson:                   1.525\n",
      "Prob(Omnibus):                  0.043   Jarque-Bera (JB):                6.030\n",
      "Skew:                           0.448   Prob(JB):                       0.0491\n",
      "Kurtosis:                       3.182   Cond. No.                         2.77\n",
      "==============================================================================\n",
      "\n",
      "Notes:\n",
      "[1] Standard Errors assume that the covariance matrix of the errors is correctly specified.\n",
      "                            OLS Regression Results                            \n",
      "==============================================================================\n",
      "Dep. Variable:                  y_hat   R-squared:                       0.000\n",
      "Model:                            OLS   Adj. R-squared:                 -0.006\n",
      "Method:                 Least Squares   F-statistic:                 3.228e-14\n",
      "Date:                Thu, 30 Nov 2023   Prob (F-statistic):               1.00\n",
      "Time:                        20:36:13   Log-Likelihood:                -593.20\n",
      "No. Observations:                 173   AIC:                             1190.\n",
      "Df Residuals:                     171   BIC:                             1197.\n",
      "Df Model:                           1                                         \n",
      "Covariance Type:            nonrobust                                         \n",
      "=================================================================================\n",
      "                    coef    std err          t      P>|t|      [0.025      0.975]\n",
      "---------------------------------------------------------------------------------\n",
      "Intercept     -2.831e-15      1.889   -1.5e-15      1.000      -3.730       3.730\n",
      "expenditure_B -7.563e-16      0.364  -2.08e-15      1.000      -0.719       0.719\n",
      "==============================================================================\n",
      "Omnibus:                        6.304   Durbin-Watson:                   1.525\n",
      "Prob(Omnibus):                  0.043   Jarque-Bera (JB):                6.030\n",
      "Skew:                           0.448   Prob(JB):                       0.0491\n",
      "Kurtosis:                       3.182   Cond. No.                         17.8\n",
      "==============================================================================\n",
      "\n",
      "Notes:\n",
      "[1] Standard Errors assume that the covariance matrix of the errors is correctly specified.\n"
     ]
    }
   ],
   "source": [
    "#Running tests for heteroskedasticity\n",
    "models_to_run = [president_vote, expenditure_A, party, expenditure_B]\n",
    "test1 = smf.ols(\"y_hat~expenditure_A\", vote).fit()\n",
    "test2 = smf.ols(\"y_hat~president_vote\", vote).fit()\n",
    "test3 = smf.ols(\"y_hat~party\", vote).fit()\n",
    "test4 = smf.ols(\"y_hat~expenditure_B\", vote).fit()\n",
    "print(test1.summary())\n",
    "print(test2.summary())\n",
    "print(test3.summary())\n",
    "print(test4.summary())"
   ]
  },
  {
   "cell_type": "markdown",
   "id": "a12319b0-9f46-4b31-8c8b-6eff8b0b72f9",
   "metadata": {},
   "source": [
    "Here, when we build the original model and obtain the residuals from it, we are operating under the typical assumptions of the Ordinary Least Squares estimation process which is that the expected value of the error term, u_hat when conditioned upon any particular value of X is 0. Mathematically, this can be stated as E(u|X) = 0. This is also known as the homoskedasticity property, which states that there is no statistical relationship between the error terms and the indicators within the regression model. \n",
    "\n",
    "When we regress the residuals U_hat on the indicators, we obtain a R squared of 0.000, which supports the above property that any variance in the residuals cannot be explained by variance in the indicators. This supports the homoskedastic errors assumption. "
   ]
  },
  {
   "cell_type": "code",
   "execution_count": 15,
   "id": "886ae6c3-35b3-4a7e-9d71-e2a26a612036",
   "metadata": {},
   "outputs": [
    {
     "name": "stdout",
     "output_type": "stream",
     "text": [
      "The F-statistic Breusch Pagan test returns (9.093355957811157, 0.05880791685694346, 2.3301126837162482, 0.058057514088554946)\n"
     ]
    }
   ],
   "source": [
    "#Running the breusch-pagan test for heteroskedasticity. \n",
    "y1, X1 = pt.dmatrices('vote1 ~ president_vote+expenditure_A+party+expenditure_B', vote, return_type = 'dataframe')\n",
    "\n",
    "print(\"The F-statistic Breusch Pagan test returns\",sm.stats.diagnostic.het_breuschpagan(reg3.resid, X1))"
   ]
  },
  {
   "cell_type": "markdown",
   "id": "0207a609-842a-41ae-801e-afd74fc5b05c",
   "metadata": {},
   "source": [
    "When we conduct the Breusch Pagan test for Heteroskedasticity, we take the square of the residuals from the model and regress it against the independent variables from that model. The standard joint hypothesis test using an F-statistic is used to verify if any of the variation in the residual is explained by variation in the independent variables. The F-statistic and the associated p-value reveal that the null hypothesis of heteroskedasticity is rejected. With a p-value of 0.058 at a 95% confidence level, we reject the null hypothesis. Although, the close nature of this result indicates that further testing for heteroskedasticity needs to be done to be confirmed, as done below with the White test. "
   ]
  },
  {
   "cell_type": "code",
   "execution_count": 16,
   "id": "408bac8a-2f64-49d9-98bb-85ac5955a14d",
   "metadata": {},
   "outputs": [
    {
     "name": "stdout",
     "output_type": "stream",
     "text": [
      "The F-statistic White test returns (31.101516025646724, 0.0032582616087890475, 2.680757782482784, 0.0019733250042553866)\n"
     ]
    }
   ],
   "source": [
    "print(\"The F-statistic White test returns\",sm.stats.diagnostic.het_white(reg3.resid, X1))"
   ]
  },
  {
   "cell_type": "markdown",
   "id": "f4830101-3f6b-4ed6-ba75-f96ae32dda49",
   "metadata": {},
   "source": [
    "Here, a similar joint hypothesis F-test is conducted to check if the residuals are linked to the independent variables. The only difference is that the White test specifically checks for constant errors, which is in line with homoskedasticity. The null hypothesis formulated is that errors are not consistent. \n",
    "\n",
    "With a p-value of 0.001, this is statistically significant at the 95% confidence level and thus, we uphold the null hypothesis. With the White test suggesting heteroskedasticity is present in the data, and the Breusch-Pagan suggesting the opposite, further testing must take place to confirm our findings. The errors are not constant, with variance detected and the Breusch Pagan test being close to statistically significant all point towards mild heteroskedasticity being present in the data. "
   ]
  },
  {
   "cell_type": "code",
   "execution_count": 17,
   "id": "dbefb6d4-dac3-40fc-91f1-e30821f842e9",
   "metadata": {},
   "outputs": [
    {
     "name": "stdout",
     "output_type": "stream",
     "text": [
      "                            OLS Regression Results                            \n",
      "==============================================================================\n",
      "Dep. Variable:                  vote1   R-squared:                       0.801\n",
      "Model:                            OLS   Adj. R-squared:                  0.796\n",
      "Method:                 Least Squares   F-statistic:                     169.1\n",
      "Date:                Thu, 30 Nov 2023   Prob (F-statistic):           8.58e-58\n",
      "Time:                        20:36:18   Log-Likelihood:                -593.20\n",
      "No. Observations:                 173   AIC:                             1196.\n",
      "Df Residuals:                     168   BIC:                             1212.\n",
      "Df Model:                           4                                         \n",
      "Covariance Type:                  HC0                                         \n",
      "==================================================================================\n",
      "                     coef    std err          z      P>|z|      [0.025      0.975]\n",
      "----------------------------------------------------------------------------------\n",
      "Intercept         37.6614      4.355      8.649      0.000      29.127      46.196\n",
      "president_vote     0.2519      0.065      3.870      0.000       0.124       0.380\n",
      "expenditure_A      5.7793      0.525     11.000      0.000       4.750       6.809\n",
      "party              3.7929      1.431      2.651      0.008       0.988       6.598\n",
      "expenditure_B     -6.2378      0.351    -17.773      0.000      -6.926      -5.550\n",
      "==============================================================================\n",
      "Omnibus:                        6.304   Durbin-Watson:                   1.525\n",
      "Prob(Omnibus):                  0.043   Jarque-Bera (JB):                6.030\n",
      "Skew:                           0.448   Prob(JB):                       0.0491\n",
      "Kurtosis:                       3.182   Cond. No.                         429.\n",
      "==============================================================================\n",
      "\n",
      "Notes:\n",
      "[1] Standard Errors are heteroscedasticity robust (HC0)\n"
     ]
    }
   ],
   "source": [
    "robust_reg = smf.ols('vote1 ~ president_vote+expenditure_A+party+expenditure_B', vote).fit(cov_type = 'HC0')\n",
    "print(robust_reg.summary())"
   ]
  },
  {
   "cell_type": "markdown",
   "id": "58fd0ebb-6fa7-4929-92a6-811b9c3e8015",
   "metadata": {},
   "source": [
    "When compared to the original model, the coefficients and the results of the statistical significance hypothesis test are all notably the same in the robust standard errors model. This is as expected as the only modification from the standard OLS estimates is that the standard errors are calculated on the basis of the assumption that the data displays heteroskedasticity. \n",
    "\n",
    "There is a consistent decrease in the standard error of the estimates of all the coefficients, which is a reflection of this model's better statistical accuracy. The lower the standard error of the estimate, the closer it is to the actual observed value in the population. "
   ]
  },
  {
   "cell_type": "code",
   "execution_count": 18,
   "id": "a1837e90-53e3-4400-87a2-3bdede702d5d",
   "metadata": {},
   "outputs": [
    {
     "name": "stdout",
     "output_type": "stream",
     "text": [
      "                            WLS Regression Results                            \n",
      "==============================================================================\n",
      "Dep. Variable:                  vote1   R-squared:                       0.790\n",
      "Model:                            WLS   Adj. R-squared:                  0.785\n",
      "Method:                 Least Squares   F-statistic:                     157.9\n",
      "Date:                Thu, 30 Nov 2023   Prob (F-statistic):           8.08e-56\n",
      "Time:                        20:36:19   Log-Likelihood:                -591.49\n",
      "No. Observations:                 173   AIC:                             1193.\n",
      "Df Residuals:                     168   BIC:                             1209.\n",
      "Df Model:                           4                                         \n",
      "Covariance Type:            nonrobust                                         \n",
      "==================================================================================\n",
      "                     coef    std err          t      P>|t|      [0.025      0.975]\n",
      "----------------------------------------------------------------------------------\n",
      "Intercept         40.7478      4.871      8.365      0.000      31.131      50.365\n",
      "president_vote     0.2235      0.072      3.120      0.002       0.082       0.365\n",
      "expenditure_A      5.9704      0.388     15.395      0.000       5.205       6.736\n",
      "party              3.1566      1.349      2.341      0.020       0.494       5.819\n",
      "expenditure_B     -6.6854      0.416    -16.086      0.000      -7.506      -5.865\n",
      "==============================================================================\n",
      "Omnibus:                        3.324   Durbin-Watson:                   1.546\n",
      "Prob(Omnibus):                  0.190   Jarque-Bera (JB):                3.029\n",
      "Skew:                           0.321   Prob(JB):                        0.220\n",
      "Kurtosis:                       3.090   Cond. No.                         486.\n",
      "==============================================================================\n",
      "\n",
      "Notes:\n",
      "[1] Standard Errors assume that the covariance matrix of the errors is correctly specified.\n"
     ]
    }
   ],
   "source": [
    "vote[\"res2\"] = np.log(reg3.resid**2)\n",
    "w_est = smf.ols('res2 ~ president_vote+expenditure_A+party+expenditure_B', data = vote).fit()\n",
    "\n",
    "vari = np.exp(w_est.fittedvalues)\n",
    "w = 1/vari\n",
    "\n",
    "fgls =smf.wls('vote1 ~ president_vote+expenditure_A+party+expenditure_B', vote, weights = w).fit()\n",
    "\n",
    "print(fgls.summary())"
   ]
  },
  {
   "cell_type": "markdown",
   "id": "1d0e27cf-2d2d-4be4-8b1f-ab5c93466888",
   "metadata": {},
   "source": [
    "When compared to the original model, the Feasible Generalised Least Squares (FGLS) model displays a change in the estimates as is expected when assigning weights through the integrated WLS method. Despite a slight elevation in the standard errors across the board, they are still relatively tight to the range seen in both the robust standard errors and standard OLS models. What is interesting however, is the slight change in the p-values of the coefficient estimate hypothesis tests which earlier were all significant at the 99% confidence level. Now, party only showcases significance at the 95% confidence level, while president_vote still remains at the previous level albeit with an elevated p-value. "
   ]
  },
  {
   "cell_type": "markdown",
   "id": "074b1476-a6ff-4899-826f-22ae0afbdced",
   "metadata": {},
   "source": [
    "## Question 3"
   ]
  },
  {
   "cell_type": "code",
   "execution_count": 19,
   "id": "bafafafb-aa1f-4ac2-ae07-136716e044b2",
   "metadata": {},
   "outputs": [
    {
     "name": "stdout",
     "output_type": "stream",
     "text": [
      "durat       float64\n",
      "afchnge       int64\n",
      "highearn      int64\n",
      "male        float64\n",
      "married     float64\n",
      "hosp          int64\n",
      "indust      float64\n",
      "injtype       int64\n",
      "age         float64\n",
      "prewage     float64\n",
      "totmed      float64\n",
      "injdes        int64\n",
      "benefit     float64\n",
      "ky            int64\n",
      "mi            int64\n",
      "ldurat      float64\n",
      "afhigh        int64\n",
      "lprewage    float64\n",
      "lage        float64\n",
      "ltotmed     float64\n",
      "head          int64\n",
      "neck          int64\n",
      "upextr        int64\n",
      "trunk         int64\n",
      "lowback       int64\n",
      "lowextr       int64\n",
      "occdis        int64\n",
      "manuf       float64\n",
      "construc    float64\n",
      "highlpre    float64\n",
      "dtype: object\n",
      "                            OLS Regression Results                            \n",
      "==============================================================================\n",
      "Dep. Variable:       log_benefit_time   R-squared:                       0.013\n",
      "Model:                            OLS   Adj. R-squared:                  0.013\n",
      "Method:                 Least Squares   F-statistic:                     95.46\n",
      "Date:                Thu, 30 Nov 2023   Prob (F-statistic):           2.09e-22\n",
      "Time:                        20:36:31   Log-Likelihood:                -12020.\n",
      "No. Observations:                7150   AIC:                         2.404e+04\n",
      "Df Residuals:                    7148   BIC:                         2.406e+04\n",
      "Df Model:                           1                                         \n",
      "Covariance Type:            nonrobust                                         \n",
      "==============================================================================\n",
      "                 coef    std err          t      P>|t|      [0.025      0.975]\n",
      "------------------------------------------------------------------------------\n",
      "Intercept      1.2104      0.020     61.039      0.000       1.171       1.249\n",
      "income         0.3067      0.031      9.770      0.000       0.245       0.368\n",
      "==============================================================================\n",
      "Omnibus:                       61.993   Durbin-Watson:                   1.894\n",
      "Prob(Omnibus):                  0.000   Jarque-Bera (JB):               92.272\n",
      "Skew:                           0.079   Prob(JB):                     9.19e-21\n",
      "Kurtosis:                       3.534   Cond. No.                         2.45\n",
      "==============================================================================\n",
      "\n",
      "Notes:\n",
      "[1] Standard Errors assume that the covariance matrix of the errors is correctly specified.\n"
     ]
    }
   ],
   "source": [
    "injury = woo.data(\"injury\")\n",
    "print(injury.dtypes)\n",
    "log_benefit_time = injury[\"ldurat\"]\n",
    "income = injury[\"highearn\"]\n",
    "gender = injury[\"male\"]\n",
    "maritial_status = injury[\"married\"]\n",
    "age = injury[\"age\"]\n",
    "injury_type = injury[\"injtype\"]\n",
    "benefit_change = injury[\"afchnge\"]\n",
    "\n",
    "reg5 = smf.ols(\"log_benefit_time~income\", injury).fit()\n",
    "print(reg5.summary())"
   ]
  },
  {
   "cell_type": "markdown",
   "id": "5b2c7730-c028-4ea3-908f-3a1805bd2f79",
   "metadata": {},
   "source": [
    "### The above model is the standalone model to which we can compare our controlled model below. "
   ]
  },
  {
   "cell_type": "code",
   "execution_count": 20,
   "id": "640a8396-c28f-44ec-9d6b-e47487078f79",
   "metadata": {},
   "outputs": [
    {
     "name": "stdout",
     "output_type": "stream",
     "text": [
      "                            OLS Regression Results                            \n",
      "==============================================================================\n",
      "Dep. Variable:       log_benefit_time   R-squared:                       0.025\n",
      "Model:                            OLS   Adj. R-squared:                  0.024\n",
      "Method:                 Least Squares   F-statistic:                     34.66\n",
      "Date:                Thu, 30 Nov 2023   Prob (F-statistic):           4.06e-35\n",
      "Time:                        20:36:35   Log-Likelihood:                -11434.\n",
      "No. Observations:                6844   AIC:                         2.288e+04\n",
      "Df Residuals:                    6838   BIC:                         2.292e+04\n",
      "Df Model:                           5                                         \n",
      "Covariance Type:            nonrobust                                         \n",
      "===================================================================================\n",
      "                      coef    std err          t      P>|t|      [0.025      0.975]\n",
      "-----------------------------------------------------------------------------------\n",
      "Intercept           0.7352      0.073     10.067      0.000       0.592       0.878\n",
      "income              0.2544      0.036      7.122      0.000       0.184       0.324\n",
      "gender             -0.0331      0.041     -0.811      0.418      -0.113       0.047\n",
      "maritial_status     0.0543      0.036      1.492      0.136      -0.017       0.126\n",
      "age                 0.0095      0.001      7.221      0.000       0.007       0.012\n",
      "injury_type         0.0351      0.010      3.422      0.001       0.015       0.055\n",
      "==============================================================================\n",
      "Omnibus:                       54.082   Durbin-Watson:                   1.899\n",
      "Prob(Omnibus):                  0.000   Jarque-Bera (JB):               83.069\n",
      "Skew:                           0.039   Prob(JB):                     9.16e-19\n",
      "Kurtosis:                       3.534   Cond. No.                         184.\n",
      "==============================================================================\n",
      "\n",
      "Notes:\n",
      "[1] Standard Errors assume that the covariance matrix of the errors is correctly specified.\n"
     ]
    }
   ],
   "source": [
    "reg_control = smf.ols(\"log_benefit_time~income+gender+maritial_status+age+injury_type\", injury).fit()\n",
    "print(reg_control.summary())"
   ]
  },
  {
   "cell_type": "code",
   "execution_count": 23,
   "id": "1a13ebb9-20e0-421d-a5a9-86680b4404b7",
   "metadata": {},
   "outputs": [
    {
     "name": "stdout",
     "output_type": "stream",
     "text": [
      "                            OLS Regression Results                            \n",
      "==============================================================================\n",
      "Dep. Variable:       log_benefit_time   R-squared:                       0.035\n",
      "Model:                            OLS   Adj. R-squared:                  0.034\n",
      "Method:                 Least Squares   F-statistic:                     22.61\n",
      "Date:                Thu, 30 Nov 2023   Prob (F-statistic):           4.02e-46\n",
      "Time:                        20:40:02   Log-Likelihood:                -11397.\n",
      "No. Observations:                6844   AIC:                         2.282e+04\n",
      "Df Residuals:                    6832   BIC:                         2.290e+04\n",
      "Df Model:                          11                                         \n",
      "Covariance Type:            nonrobust                                         \n",
      "=======================================================================================\n",
      "                          coef    std err          t      P>|t|      [0.025      0.975]\n",
      "---------------------------------------------------------------------------------------\n",
      "Intercept               0.4625      0.098      4.705      0.000       0.270       0.655\n",
      "C(injury_type)[T.2]     0.7661      0.145      5.294      0.000       0.482       1.050\n",
      "C(injury_type)[T.3]     0.3825      0.086      4.468      0.000       0.215       0.550\n",
      "C(injury_type)[T.4]     0.6969      0.093      7.511      0.000       0.515       0.879\n",
      "C(injury_type)[T.5]     0.4759      0.086      5.519      0.000       0.307       0.645\n",
      "C(injury_type)[T.6]     0.4188      0.087      4.822      0.000       0.249       0.589\n",
      "C(injury_type)[T.7]     0.9108      0.175      5.219      0.000       0.569       1.253\n",
      "C(injury_type)[T.8]     0.5926      0.117      5.054      0.000       0.363       0.822\n",
      "income                  0.2470      0.036      6.931      0.000       0.177       0.317\n",
      "gender                 -0.0341      0.041     -0.835      0.404      -0.114       0.046\n",
      "maritial_status         0.0484      0.036      1.337      0.181      -0.023       0.119\n",
      "age                     0.0089      0.001      6.813      0.000       0.006       0.012\n",
      "==============================================================================\n",
      "Omnibus:                       58.949   Durbin-Watson:                   1.918\n",
      "Prob(Omnibus):                  0.000   Jarque-Bera (JB):               92.702\n",
      "Skew:                           0.039   Prob(JB):                     7.41e-21\n",
      "Kurtosis:                       3.565   Cond. No.                         585.\n",
      "==============================================================================\n",
      "\n",
      "Notes:\n",
      "[1] Standard Errors assume that the covariance matrix of the errors is correctly specified.\n"
     ]
    }
   ],
   "source": [
    "reg_control1 = smf.ols(\"log_benefit_time~income+gender+maritial_status+age+C(injury_type)\", injury).fit()\n",
    "print(reg_control1.summary())"
   ]
  },
  {
   "cell_type": "markdown",
   "id": "50a6c274-035a-405a-ba0a-7398f8475f61",
   "metadata": {},
   "source": [
    "Here in our complete model with additional control variables in the form of gender, maritial status, age, and injury type we see that the coefficient of the income variable has changed to 0.2544. This can be interpreted as the log of benefit duration being higher for high earners within the population set, due to the high statistical significance of the income variable. \n",
    "\n",
    "When we build an additional model where we classify the injury type variable as a categorical variable it changes to 0.2470. "
   ]
  },
  {
   "cell_type": "code",
   "execution_count": 24,
   "id": "d0094bf7-6564-463f-89e5-fc96e10fc236",
   "metadata": {},
   "outputs": [
    {
     "name": "stdout",
     "output_type": "stream",
     "text": [
      "                            OLS Regression Results                            \n",
      "==============================================================================\n",
      "Dep. Variable:                 income   R-squared:                       0.205\n",
      "Model:                            OLS   Adj. R-squared:                  0.205\n",
      "Method:                 Least Squares   F-statistic:                     441.0\n",
      "Date:                Thu, 30 Nov 2023   Prob (F-statistic):               0.00\n",
      "Time:                        20:41:30   Log-Likelihood:                -4020.9\n",
      "No. Observations:                6844   AIC:                             8052.\n",
      "Df Residuals:                    6839   BIC:                             8086.\n",
      "Df Model:                           4                                         \n",
      "Covariance Type:            nonrobust                                         \n",
      "===================================================================================\n",
      "                      coef    std err          t      P>|t|      [0.025      0.975]\n",
      "-----------------------------------------------------------------------------------\n",
      "Intercept          -0.3063      0.024    -12.532      0.000      -0.354      -0.258\n",
      "gender              0.4083      0.013     31.668      0.000       0.383       0.434\n",
      "age                 0.0052      0.000     11.800      0.000       0.004       0.006\n",
      "maritial_status     0.2300      0.012     19.182      0.000       0.206       0.253\n",
      "injury_type         0.0092      0.003      2.653      0.008       0.002       0.016\n",
      "==============================================================================\n",
      "Omnibus:                    13255.020   Durbin-Watson:                   0.336\n",
      "Prob(Omnibus):                  0.000   Jarque-Bera (JB):              481.965\n",
      "Skew:                           0.139   Prob(JB):                    2.20e-105\n",
      "Kurtosis:                       1.730   Cond. No.                         179.\n",
      "==============================================================================\n",
      "\n",
      "Notes:\n",
      "[1] Standard Errors assume that the covariance matrix of the errors is correctly specified.\n"
     ]
    }
   ],
   "source": [
    "reg_random_assign = smf.ols(\"income~gender+age+maritial_status+injury_type\", injury).fit()\n",
    "print(reg_random_assign.summary())"
   ]
  },
  {
   "cell_type": "markdown",
   "id": "080c4d7b-9f28-4a00-b24f-17e12fe0453c",
   "metadata": {},
   "source": [
    "Once we build our treatment effects model above, we check for random assignment to the treatment group by regressing it against the remaining independent variables. Here our main focus is on two statistical measures, the F-statistic hypothesis for joint significance and the adjusted R square. \n",
    "\n",
    "The joint hypothesis test's F-statistic is 441 with a p-value of 0.00, indicating that all the remaining independent variables are significant with respect to our treatment group, income. \n",
    "The adjusted R square of 0.205 reveals that a significant 20% of the variation in assignment to the treatment group is caused by variances within the other variables. \n",
    "\n",
    "On the basis of this combined evidence, we can clearly confirm that assignment to the treatment group is not random. "
   ]
  },
  {
   "cell_type": "code",
   "execution_count": 25,
   "id": "88c82aba-18cc-4fa4-9b36-860284e22fac",
   "metadata": {},
   "outputs": [
    {
     "name": "stdout",
     "output_type": "stream",
     "text": [
      "                            OLS Regression Results                            \n",
      "==============================================================================\n",
      "Dep. Variable:       log_benefit_time   R-squared:                       0.028\n",
      "Model:                            OLS   Adj. R-squared:                  0.027\n",
      "Method:                 Least Squares   F-statistic:                     28.01\n",
      "Date:                Thu, 30 Nov 2023   Prob (F-statistic):           2.90e-38\n",
      "Time:                        20:41:32   Log-Likelihood:                -11423.\n",
      "No. Observations:                6844   AIC:                         2.286e+04\n",
      "Df Residuals:                    6836   BIC:                         2.292e+04\n",
      "Df Model:                           7                                         \n",
      "Covariance Type:            nonrobust                                         \n",
      "=========================================================================================\n",
      "                            coef    std err          t      P>|t|      [0.025      0.975]\n",
      "-----------------------------------------------------------------------------------------\n",
      "Intercept                 0.7315      0.075      9.716      0.000       0.584       0.879\n",
      "maritial_status           0.0517      0.036      1.424      0.154      -0.019       0.123\n",
      "age                       0.0094      0.001      7.188      0.000       0.007       0.012\n",
      "gender                   -0.0338      0.041     -0.829      0.407      -0.114       0.046\n",
      "injury_type               0.0341      0.010      3.321      0.001       0.014       0.054\n",
      "income                    0.1541      0.047      3.287      0.001       0.062       0.246\n",
      "benefit_change            0.0266      0.040      0.666      0.506      -0.052       0.105\n",
      "income:benefit_change     0.2049      0.064      3.217      0.001       0.080       0.330\n",
      "==============================================================================\n",
      "Omnibus:                       52.250   Durbin-Watson:                   1.905\n",
      "Prob(Omnibus):                  0.000   Jarque-Bera (JB):               79.808\n",
      "Skew:                           0.035   Prob(JB):                     4.68e-18\n",
      "Kurtosis:                       3.524   Cond. No.                         200.\n",
      "==============================================================================\n",
      "\n",
      "Notes:\n",
      "[1] Standard Errors assume that the covariance matrix of the errors is correctly specified.\n"
     ]
    }
   ],
   "source": [
    "reg_DID = smf.ols(\"log_benefit_time~maritial_status+age+gender+injury_type+income*benefit_change\", injury).fit()\n",
    "print(reg_DID.summary())"
   ]
  },
  {
   "cell_type": "markdown",
   "id": "e7aa7f14-0275-4a61-84b1-041556ea685a",
   "metadata": {},
   "source": [
    "#### When building a Differences-in-Differences model, we seek to establish if the duration of benefits are spread differently among different groups within the treatment group. \n",
    "\n",
    "In this case, the interaction term we pick consists of the income and benefit_change variables, where the coefficient is estimated to be 0.2049 with a strong statistical significance as reflected by the p-value of 0.001. Thus, we can establish a strong difference in duration of the benefits between high income and low income workers to the tune of 20% in favour of the high income workers. "
   ]
  },
  {
   "cell_type": "markdown",
   "id": "a072a68e-259b-43c6-89a3-879296c7f0db",
   "metadata": {},
   "source": [
    "## Question 4"
   ]
  },
  {
   "cell_type": "code",
   "execution_count": 26,
   "id": "1d10ffe4-efcb-4342-b6e3-60c898f658a9",
   "metadata": {},
   "outputs": [
    {
     "name": "stdout",
     "output_type": "stream",
     "text": [
      "                            OLS Regression Results                            \n",
      "==============================================================================\n",
      "Dep. Variable:               approval   R-squared:                       0.049\n",
      "Model:                            OLS   Adj. R-squared:                  0.048\n",
      "Method:                 Least Squares   F-statistic:                     55.47\n",
      "Date:                Thu, 30 Nov 2023   Prob (F-statistic):           1.41e-13\n",
      "Time:                        20:41:35   Log-Likelihood:                -555.54\n",
      "No. Observations:                1989   AIC:                             1115.\n",
      "Df Residuals:                    1987   BIC:                             1126.\n",
      "Df Model:                           1                                         \n",
      "Covariance Type:                  HC3                                         \n",
      "==============================================================================\n",
      "                 coef    std err          z      P>|z|      [0.025      0.975]\n",
      "------------------------------------------------------------------------------\n",
      "Intercept      0.7078      0.026     27.225      0.000       0.657       0.759\n",
      "white          0.2006      0.027      7.448      0.000       0.148       0.253\n",
      "==============================================================================\n",
      "Omnibus:                      801.085   Durbin-Watson:                   2.002\n",
      "Prob(Omnibus):                  0.000   Jarque-Bera (JB):             2394.523\n",
      "Skew:                          -2.161   Prob(JB):                         0.00\n",
      "Kurtosis:                       6.197   Cond. No.                         4.90\n",
      "==============================================================================\n",
      "\n",
      "Notes:\n",
      "[1] Standard Errors are heteroscedasticity robust (HC3)\n"
     ]
    }
   ],
   "source": [
    "#building the linear probability model \n",
    "loan_data = woo.data(\"loanapp\")\n",
    "approval = loan_data[\"approve\"]\n",
    "white = loan_data[\"white\"]\n",
    "\n",
    "linear_reg = smf.ols(\"approval~white\", loan_data).fit(cov_type=\"HC3\")\n",
    "print(linear_reg.summary())"
   ]
  },
  {
   "cell_type": "code",
   "execution_count": 27,
   "id": "f9dda424-81a6-41f7-8c6d-af2ad3b67ee6",
   "metadata": {},
   "outputs": [
    {
     "name": "stdout",
     "output_type": "stream",
     "text": [
      "predictions: \n",
      "0    0.707792\n",
      "1    0.908388\n",
      "dtype: float64\n",
      "\n"
     ]
    }
   ],
   "source": [
    "#Creating predictions using the linear probability model \n",
    "X_new = pd.DataFrame({'white': [0,1]})\n",
    "predictions_linear = linear_reg.predict(X_new)\n",
    "\n",
    "print(f'predictions: \\n{predictions_linear}\\n')"
   ]
  },
  {
   "cell_type": "code",
   "execution_count": 28,
   "id": "05a83c50-33cd-4c9d-9595-b64810c8d38e",
   "metadata": {},
   "outputs": [
    {
     "name": "stdout",
     "output_type": "stream",
     "text": [
      "                          Probit Regression Results                           \n",
      "==============================================================================\n",
      "Dep. Variable:               approval   No. Observations:                 1989\n",
      "Model:                         Probit   Df Residuals:                     1987\n",
      "Method:                           MLE   Df Model:                            1\n",
      "Date:                Thu, 30 Nov 2023   Pseudo R-squ.:                 0.05331\n",
      "Time:                        20:41:37   Log-Likelihood:                -700.88\n",
      "converged:                       True   LL-Null:                       -740.35\n",
      "Covariance Type:            nonrobust   LLR p-value:                 6.408e-19\n",
      "==============================================================================\n",
      "                 coef    std err          z      P>|z|      [0.025      0.975]\n",
      "------------------------------------------------------------------------------\n",
      "Intercept      0.5469      0.075      7.251      0.000       0.399       0.695\n",
      "white          0.7839      0.087      9.041      0.000       0.614       0.954\n",
      "==============================================================================\n",
      "0    0.707792\n",
      "1    0.908388\n",
      "dtype: float64\n"
     ]
    }
   ],
   "source": [
    "#Building the probit model\n",
    "probit_reg = smf.probit(\"approval~white\", loan_data).fit(disp=0)\n",
    "print(probit_reg.summary())\n",
    "\n",
    "#Creating predictions using the probit model\n",
    "predictions_probit = probit_reg.predict(X_new)\n",
    "print(predictions_probit)"
   ]
  },
  {
   "cell_type": "markdown",
   "id": "f6c1286c-6d42-4bd2-a633-56d295523ff5",
   "metadata": {},
   "source": [
    "Using the probit and linear probability models, we estimated the probability of inidviduals belonging to the white racial group and other racial groups being approved for a loan. The linear probability model had a intercept estimate of 0.707 and a white coefficient estimate of 0.2006. Based on these parameters, the linear probability model estimated that the approval rates for white people was 0.9083 and for non-whites was 0.7077. \n",
    "\n",
    "The probit model also estimated the exact same probabilities for loan approval of 90.83% and 70.77% respectively. With such a large divergence and statistically significant results all around, this deserves attention although neither the linear probability nor probit model can explain causal inference. "
   ]
  },
  {
   "cell_type": "code",
   "execution_count": 29,
   "id": "9c3977db-58ed-4a8a-ad7e-f384ec05d8a4",
   "metadata": {},
   "outputs": [
    {
     "name": "stdout",
     "output_type": "stream",
     "text": [
      "                          Probit Regression Results                           \n",
      "==============================================================================\n",
      "Dep. Variable:               approval   No. Observations:                 1971\n",
      "Model:                         Probit   Df Residuals:                     1955\n",
      "Method:                           MLE   Df Model:                           15\n",
      "Date:                Thu, 30 Nov 2023   Pseudo R-squ.:                  0.1866\n",
      "Time:                        20:41:49   Log-Likelihood:                -600.27\n",
      "converged:                       True   LL-Null:                       -737.98\n",
      "Covariance Type:            nonrobust   LLR p-value:                 7.014e-50\n",
      "====================================================================================\n",
      "                       coef    std err          z      P>|z|      [0.025      0.975]\n",
      "------------------------------------------------------------------------------------\n",
      "Intercept            2.0623      0.313      6.585      0.000       1.449       2.676\n",
      "white                0.5203      0.097      5.366      0.000       0.330       0.710\n",
      "housing_exp          0.0079      0.007      1.131      0.258      -0.006       0.022\n",
      "other_exp           -0.0277      0.006     -4.578      0.000      -0.040      -0.016\n",
      "loan_amount         -1.0120      0.237     -4.266      0.000      -1.477      -0.547\n",
      "unemployment        -0.0367      0.017     -2.099      0.036      -0.071      -0.002\n",
      "gender              -0.0370      0.110     -0.337      0.736      -0.252       0.178\n",
      "maritial_status1     0.2657      0.094      2.820      0.005       0.081       0.450\n",
      "dependents          -0.0496      0.039     -1.269      0.204      -0.126       0.027\n",
      "schooling            0.0146      0.096      0.153      0.879      -0.173       0.202\n",
      "cosign               0.0861      0.246      0.350      0.726      -0.396       0.568\n",
      "credit_history       0.5853      0.096      6.098      0.000       0.397       0.773\n",
      "bankruptcy          -0.7787      0.126     -6.165      0.000      -1.026      -0.531\n",
      "late_payment1       -0.1876      0.253     -0.741      0.459      -0.684       0.308\n",
      "late_payment2       -0.4944      0.327     -1.514      0.130      -1.134       0.146\n",
      "vacancy_rate        -0.2011      0.081     -2.467      0.014      -0.361      -0.041\n",
      "====================================================================================\n"
     ]
    }
   ],
   "source": [
    "#Extracting variables to add to the augmented probit model \n",
    "housing_exp = loan_data[\"hrat\"]\n",
    "other_exp = loan_data[\"obrat\"]\n",
    "loan_amount = loan_data[\"loanprc\"]\n",
    "unemployment = loan_data[\"unem\"]\n",
    "gender = loan_data[\"male\"]\n",
    "maritial_status1 = loan_data[\"married\"]\n",
    "dependents = loan_data[\"dep\"]\n",
    "schooling = loan_data[\"sch\"]\n",
    "cosign = loan_data[\"cosign\"]\n",
    "credit_history = loan_data[\"chist\"]\n",
    "bankruptcy = loan_data[\"pubrec\"]\n",
    "late_payment1 = loan_data[\"mortlat1\"]\n",
    "late_payment2 = loan_data[\"mortlat2\"]\n",
    "vacancy_rate = loan_data[\"vr\"]\n",
    "\n",
    "#Building the augmented probit model\n",
    "probit_reg1 = smf.probit(\"approval~white+housing_exp+other_exp+loan_amount+unemployment+gender+maritial_status1+dependents+schooling+cosign+credit_history+bankruptcy+late_payment1+late_payment2+vacancy_rate\", loan_data).fit(disp=0)\n",
    "print(probit_reg1.summary())"
   ]
  },
  {
   "cell_type": "markdown",
   "id": "4b18014f-91d4-496a-b183-37bb701c7a05",
   "metadata": {},
   "source": [
    "With a tight standard error of 0.097, high statistical significance reflected by a p-value of 0.000 and a coefficient of 0.5203, there is enough statistical evidence to suggest that there is significant racial discrimination in the approval of loans, skewed in favour of white individuals. \n",
    "\n",
    "The pretty high coefficient of nearly 52% should raise concern over the mortgage loan approval practises. "
   ]
  },
  {
   "cell_type": "code",
   "execution_count": 30,
   "id": "85236892-e548-4c0d-a2a9-07aa933b44b1",
   "metadata": {},
   "outputs": [
    {
     "name": "stdout",
     "output_type": "stream",
     "text": [
      "                           Logit Regression Results                           \n",
      "==============================================================================\n",
      "Dep. Variable:               approval   No. Observations:                 1971\n",
      "Model:                          Logit   Df Residuals:                     1955\n",
      "Method:                           MLE   Df Model:                           15\n",
      "Date:                Thu, 30 Nov 2023   Pseudo R-squ.:                  0.1863\n",
      "Time:                        20:41:51   Log-Likelihood:                -600.50\n",
      "converged:                       True   LL-Null:                       -737.98\n",
      "Covariance Type:            nonrobust   LLR p-value:                 8.693e-50\n",
      "====================================================================================\n",
      "                       coef    std err          z      P>|z|      [0.025      0.975]\n",
      "------------------------------------------------------------------------------------\n",
      "Intercept            3.8017      0.595      6.393      0.000       2.636       4.967\n",
      "white                0.9378      0.173      5.424      0.000       0.599       1.277\n",
      "housing_exp          0.0133      0.013      1.030      0.303      -0.012       0.039\n",
      "other_exp           -0.0530      0.011     -4.701      0.000      -0.075      -0.031\n",
      "loan_amount         -1.9050      0.460     -4.137      0.000      -2.807      -1.002\n",
      "unemployment        -0.0666      0.033     -2.029      0.042      -0.131      -0.002\n",
      "gender              -0.0664      0.206     -0.322      0.748      -0.471       0.338\n",
      "maritial_status1     0.5033      0.178      2.827      0.005       0.154       0.852\n",
      "dependents          -0.0907      0.073     -1.237      0.216      -0.234       0.053\n",
      "schooling            0.0412      0.178      0.231      0.817      -0.308       0.391\n",
      "cosign               0.1321      0.446      0.296      0.767      -0.742       1.006\n",
      "credit_history       1.0666      0.171      6.230      0.000       0.731       1.402\n",
      "bankruptcy          -1.3407      0.217     -6.168      0.000      -1.767      -0.915\n",
      "late_payment1       -0.3099      0.464     -0.669      0.504      -1.218       0.599\n",
      "late_payment2       -0.8947      0.569     -1.574      0.116      -2.009       0.220\n",
      "vacancy_rate        -0.3498      0.154     -2.276      0.023      -0.651      -0.049\n",
      "====================================================================================\n"
     ]
    }
   ],
   "source": [
    "#Building the logit model\n",
    "logit_reg = smf.logit(\"approval~white+housing_exp+other_exp+loan_amount+unemployment+gender+maritial_status1+dependents+schooling+cosign+credit_history+bankruptcy+late_payment1+late_payment2+vacancy_rate\", loan_data).fit(disp=0)\n",
    "print(logit_reg.summary())"
   ]
  },
  {
   "cell_type": "markdown",
   "id": "9ab0fa63-92f3-46f1-a707-ed5891248df4",
   "metadata": {},
   "source": [
    "The logit model continues to confirm the findings of the probit model. With a coefficient of 93.78%, a p-value of 0.000 which signifies high statistical significance, and a less tight standard error of 0.173 the logit model continues to prove that evidence of racial discrimination in the practice of approving mortage loans exists. \n",
    "\n",
    "To equalise the base of the coefficients from both models, we divide the logit coefficient by 1.6. Here 0.9378/1.6 gives us 0.586125, which is within close range of our probit model. This confirms that our logit model is statistically valid. "
   ]
  },
  {
   "cell_type": "code",
   "execution_count": 31,
   "id": "ff1c720a-0985-4ad9-b447-8a430d9a96de",
   "metadata": {},
   "outputs": [
    {
     "data": {
      "text/plain": [
       "array([ 0.08638681,  0.00130785, -0.00459826, -0.16803531, -0.00609144,\n",
       "       -0.00614401,  0.0441267 , -0.00823193,  0.00243254,  0.01429195,\n",
       "        0.09718468, -0.12930819, -0.0311545 , -0.08208678, -0.03338594])"
      ]
     },
     "execution_count": 31,
     "metadata": {},
     "output_type": "execute_result"
    }
   ],
   "source": [
    "#Estimating the probit marginal effects\n",
    "probit_reg1.get_margeff().margeff"
   ]
  },
  {
   "cell_type": "code",
   "execution_count": 32,
   "id": "1b01f9d5-b674-447c-8ab1-adbf9b49b9ce",
   "metadata": {},
   "outputs": [
    {
     "data": {
      "text/plain": [
       "array([ 0.08281951,  0.00117134, -0.00468373, -0.16823751, -0.00587998,\n",
       "       -0.00586287,  0.04444778, -0.00801322,  0.00364115,  0.01166291,\n",
       "        0.0941957 , -0.11840206, -0.02736752, -0.07901408, -0.03089537])"
      ]
     },
     "execution_count": 32,
     "metadata": {},
     "output_type": "execute_result"
    }
   ],
   "source": [
    "#Estimating the logit marginal effects\n",
    "logit_reg.get_margeff().margeff"
   ]
  },
  {
   "cell_type": "code",
   "execution_count": 33,
   "id": "317fd582-7700-484a-940e-bb9a220797b1",
   "metadata": {},
   "outputs": [
    {
     "name": "stdout",
     "output_type": "stream",
     "text": [
      "Probit APE:  Intercept           0.342445\n",
      "white               0.086387\n",
      "housing_exp         0.001308\n",
      "other_exp          -0.004598\n",
      "loan_amount        -0.168035\n",
      "unemployment       -0.006091\n",
      "gender             -0.006144\n",
      "maritial_status1    0.044127\n",
      "dependents         -0.008232\n",
      "schooling           0.002433\n",
      "cosign              0.014292\n",
      "credit_history      0.097185\n",
      "bankruptcy         -0.129308\n",
      "late_payment1      -0.031155\n",
      "late_payment2      -0.082087\n",
      "vacancy_rate       -0.033386\n",
      "dtype: float64 Probit PEA:  Intercept           0.335751\n",
      "white               0.082820\n",
      "housing_exp         0.001171\n",
      "other_exp          -0.004684\n",
      "loan_amount        -0.168238\n",
      "unemployment       -0.005880\n",
      "gender             -0.005863\n",
      "maritial_status1    0.044448\n",
      "dependents         -0.008013\n",
      "schooling           0.003641\n",
      "cosign              0.011663\n",
      "credit_history      0.094196\n",
      "bankruptcy         -0.118402\n",
      "late_payment1      -0.027368\n",
      "late_payment2      -0.079014\n",
      "vacancy_rate       -0.030895\n",
      "dtype: float64\n"
     ]
    }
   ],
   "source": [
    "#Estimating the average partial effects of the probit and logit models\n",
    "probit_ape = probit_reg1.params*stats.norm.pdf(probit_reg1.fittedvalues).mean()\n",
    "logit_ape = logit_reg.params*stats.logistic.pdf(logit_reg.fittedvalues).mean()\n",
    "\n",
    "print(\"Probit APE: \", probit_ape, \"Probit PEA: \", logit_ape)"
   ]
  },
  {
   "cell_type": "markdown",
   "id": "446ed7ed-b1da-474e-bfdf-16a490eec921",
   "metadata": {},
   "source": [
    "The Average Partial Effect isolates the effect of one particular variable and its influence on the conditional probability. Here, the estimate of the APE for the probit model is 0.0863 and the logit model is 0.0828. This means that according to our model, leaving all else equal, being white increases your probability of having your mortgage loan approved by at least 8.2% according to logit or upto 8.63% according to probit. \n",
    "\n",
    "This combined with our previous statistically significant results may not be sufficient to build a case of causal inference, exhaustively demonstrating that racial discrimination against non-white individuals occurred. However, it definitely provides evidence to justify further examination of the data. "
   ]
  }
 ],
 "metadata": {
  "kernelspec": {
   "display_name": "Python 3 (ipykernel)",
   "language": "python",
   "name": "python3"
  },
  "language_info": {
   "codemirror_mode": {
    "name": "ipython",
    "version": 3
   },
   "file_extension": ".py",
   "mimetype": "text/x-python",
   "name": "python",
   "nbconvert_exporter": "python",
   "pygments_lexer": "ipython3",
   "version": "3.11.5"
  }
 },
 "nbformat": 4,
 "nbformat_minor": 5
}
